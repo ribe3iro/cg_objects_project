{
 "cells": [
  {
   "cell_type": "code",
   "execution_count": 1,
   "id": "25c2a799",
   "metadata": {},
   "outputs": [],
   "source": [
    "#codigo de geração dos obj"
   ]
  },
  {
   "cell_type": "code",
   "execution_count": 2,
   "id": "38f86abe-93b0-49c9-abc9-365972ee2871",
   "metadata": {},
   "outputs": [],
   "source": [
    "import math"
   ]
  },
  {
   "cell_type": "code",
   "execution_count": 3,
   "id": "42510239",
   "metadata": {},
   "outputs": [
    {
     "name": "stdout",
     "output_type": "stream",
     "text": [
      "Arquivo 'corpo_fantasma.obj' gerado com meia esfera + cilindro encaixado!\n"
     ]
    }
   ],
   "source": [
    "def salvar_esfera_com_cilindro(nome_arquivo, radius=1.0, stacks=10, sectors=20, altura_cilindro=1.0):\n",
    "    with open(nome_arquivo, 'w') as f:\n",
    "        f.write(\"# Meia Esfera com Cilindro abaixo\\n\")\n",
    "        f.write(\"mtllib none\\n\")\n",
    "\n",
    "        vertices = []\n",
    "\n",
    "        # === MEIA ESFERA ===\n",
    "        for i in range(stacks + 1):\n",
    "            stack_angle = math.pi / 2 * (i / stacks)  # de 0 até pi/2\n",
    "            xy = radius * math.cos(stack_angle)\n",
    "            z = radius * math.sin(stack_angle)\n",
    "\n",
    "            for j in range(sectors + 1):\n",
    "                sector_angle = 2 * math.pi * (j / sectors)\n",
    "                x = xy * math.cos(sector_angle)\n",
    "                y = xy * math.sin(sector_angle)\n",
    "\n",
    "                # Inverte y <-> z\n",
    "                vertices.append((x, z, y))\n",
    "\n",
    "                f.write(f\"v {x:.6f} {z:.6f} {y:.6f}\\n\")\n",
    "\n",
    "        # === CILINDRO ===\n",
    "        base_index = len(vertices)  # para ajustar índices das faces\n",
    "\n",
    "        for i in range(2):  # topo e base\n",
    "            y = 0 if i == 0 else -altura_cilindro\n",
    "            for j in range(sectors + 1):\n",
    "                angle = 2 * math.pi * (j / sectors)\n",
    "                x = radius * math.cos(angle)\n",
    "                z = radius * math.sin(angle)\n",
    "\n",
    "                vertices.append((x, y, z))\n",
    "\n",
    "                f.write(f\"v {x:.6f} {y:.6f} {z:.6f}\\n\")\n",
    "\n",
    "        # === FACES MEIA ESFERA ===\n",
    "        for i in range(stacks):\n",
    "            for j in range(sectors):\n",
    "                v1 = i * (sectors + 1) + j + 1\n",
    "                v2 = v1 + sectors + 1\n",
    "                v3 = v1 + 1\n",
    "                v4 = v2 + 1\n",
    "\n",
    "                f.write(f\"f {v1} {v2} {v3}\\n\")\n",
    "                f.write(f\"f {v3} {v2} {v4}\\n\")\n",
    "\n",
    "        # === FACES CILINDRO ===\n",
    "        for j in range(sectors):\n",
    "            i1 = base_index + j + 1\n",
    "            i2 = i1 + sectors + 1\n",
    "            i3 = i1 + 1\n",
    "            i4 = i2 + 1\n",
    "\n",
    "            f.write(f\"f {i1} {i2} {i3}\\n\")\n",
    "            f.write(f\"f {i3} {i2} {i4}\\n\")\n",
    "\n",
    "    print(f\"Arquivo '{nome_arquivo}' gerado com meia esfera + cilindro encaixado!\")\n",
    "\n",
    "# Exemplo de uso:\n",
    "salvar_esfera_com_cilindro(\"corpo_fantasma.obj\")"
   ]
  },
  {
   "cell_type": "code",
   "execution_count": 4,
   "id": "d500acd4",
   "metadata": {},
   "outputs": [
    {
     "name": "stdout",
     "output_type": "stream",
     "text": [
      "Arquivo 'arvore.obj' gerado com sucesso!\n"
     ]
    }
   ],
   "source": [
    "def salvar_arvore_com_cone_vt(nome_arquivo, altura_tronco=0.8, raio_tronco=0.2,\n",
    "                               altura_copa=2.0, raio_copa=0.6, setores=20):\n",
    "    with open(nome_arquivo, 'w') as f:\n",
    "        f.write(\"# Árvore com cone como copa, usando vt e sem vn\\n\")\n",
    "\n",
    "        vertices = []\n",
    "\n",
    "        # === TRONCO (CILINDRO) ===\n",
    "        for i in range(2):  # base (0) e topo (1)\n",
    "            y = i * altura_tronco\n",
    "            for j in range(setores + 1):\n",
    "                ang = 2 * math.pi * j / setores\n",
    "                x = raio_tronco * math.cos(ang)\n",
    "                z = raio_tronco * math.sin(ang)\n",
    "                vertices.append((x, y, z))\n",
    "                f.write(f\"v {x:.6f} {y:.6f} {z:.6f}\\n\")\n",
    "\n",
    "        # === COPA (CONE) ===\n",
    "        for j in range(setores + 1):\n",
    "            ang = 2 * math.pi * j / setores\n",
    "            x = raio_copa * math.cos(ang)\n",
    "            z = raio_copa * math.sin(ang)\n",
    "            y = altura_tronco\n",
    "            vertices.append((x, y, z))\n",
    "            f.write(f\"v {x:.6f} {y:.6f} {z:.6f}\\n\")\n",
    "\n",
    "        # topo do cone (pico)\n",
    "        topo_y = altura_tronco + altura_copa\n",
    "        vertices.append((0, topo_y, 0))\n",
    "        f.write(f\"v 0.000000 {topo_y:.6f} 0.000000\\n\")\n",
    "\n",
    "        # === FACES TRONCO ===\n",
    "        for j in range(setores):\n",
    "            v1 = j + 1\n",
    "            v2 = v1 + setores + 1\n",
    "            v3 = v1 + 1\n",
    "            v4 = v2 + 1\n",
    "            f.write(f\"f {v1} {v2} {v3}\\n\")\n",
    "            f.write(f\"f {v3} {v2} {v4}\\n\")\n",
    "\n",
    "        # === FACES COPA ===\n",
    "        offset = len(vertices) - (setores + 1 + 1)  # início da base da copa\n",
    "        topo_idx = len(vertices)                   # índice do pico do cone (1-based)\n",
    "        for j in range(setores):\n",
    "            base1 = offset + j + 1\n",
    "            base2 = offset + (j + 1) % setores + 1\n",
    "            f.write(f\"f {base1} {base2} {topo_idx}\\n\")\n",
    "\n",
    "    print(f\"Arquivo '{nome_arquivo}' gerado com sucesso!\")\n",
    "\n",
    "# Exemplo de uso:\n",
    "salvar_arvore_com_cone_vt(\"arvore.obj\")"
   ]
  }
 ],
 "metadata": {
  "kernelspec": {
   "display_name": "Python 3 (ipykernel)",
   "language": "python",
   "name": "python3"
  },
  "language_info": {
   "codemirror_mode": {
    "name": "ipython",
    "version": 3
   },
   "file_extension": ".py",
   "mimetype": "text/x-python",
   "name": "python",
   "nbconvert_exporter": "python",
   "pygments_lexer": "ipython3",
   "version": "3.9.21"
  }
 },
 "nbformat": 4,
 "nbformat_minor": 5
}
