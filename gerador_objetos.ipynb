{
 "cells": [
  {
   "cell_type": "markdown",
   "id": "45a1082a-493d-472c-a0ed-336ca7eadbf1",
   "metadata": {},
   "source": [
    "# Código de geração dos objetos (.obj)"
   ]
  },
  {
   "cell_type": "markdown",
   "id": "81881ff7-9825-4a25-be9c-ebade32b00da",
   "metadata": {},
   "source": [
    "## Bibliotecas"
   ]
  },
  {
   "cell_type": "code",
   "execution_count": 1,
   "id": "38f86abe-93b0-49c9-abc9-365972ee2871",
   "metadata": {},
   "outputs": [],
   "source": [
    "import math\n",
    "import numpy as np\n",
    "from perlin_noise import PerlinNoise"
   ]
  },
  {
   "cell_type": "markdown",
   "id": "bbdb8f24-a2d8-4ca5-bc5d-46500ae7f5e4",
   "metadata": {},
   "source": [
    "## Corpo do fantasma (corpo_fantasma.obj)\n",
    "Sem olhos e boca"
   ]
  },
  {
   "cell_type": "code",
   "execution_count": 2,
   "id": "42510239",
   "metadata": {},
   "outputs": [],
   "source": [
    "def salvar_esfera_com_cilindro(nome_arquivo, radius=1.0, stacks=10, sectors=20, altura_cilindro=1.0):\n",
    "    with open(nome_arquivo, 'w') as f:\n",
    "        f.write(\"# Meia Esfera com Cilindro abaixo\\n\")\n",
    "\n",
    "        vertices = []\n",
    "\n",
    "        # === MEIA ESFERA ===\n",
    "        for i in range(stacks + 1):\n",
    "            stack_angle = math.pi / 2 * (i / stacks)  # de 0 até pi/2\n",
    "            xy = radius * math.cos(stack_angle)\n",
    "            z = radius * math.sin(stack_angle)\n",
    "\n",
    "            for j in range(sectors + 1):\n",
    "                sector_angle = 2 * math.pi * (j / sectors)\n",
    "                x = xy * math.cos(sector_angle)\n",
    "                y = xy * math.sin(sector_angle)\n",
    "\n",
    "                # Inverte y <-> z\n",
    "                vertices.append((x, z, y))\n",
    "\n",
    "                f.write(f\"v {x:.6f} {z:.6f} {y:.6f}\\n\")\n",
    "\n",
    "        # === CILINDRO ===\n",
    "        base_index = len(vertices)  # para ajustar índices das faces\n",
    "\n",
    "        for i in range(2):  # topo e base\n",
    "            y = 0 if i == 0 else -altura_cilindro\n",
    "            for j in range(sectors + 1):\n",
    "                angle = 2 * math.pi * (j / sectors)\n",
    "                x = radius * math.cos(angle)\n",
    "                z = radius * math.sin(angle)\n",
    "\n",
    "                vertices.append((x, y, z))\n",
    "\n",
    "                f.write(f\"v {x:.6f} {y:.6f} {z:.6f}\\n\")\n",
    "\n",
    "        # === FACES MEIA ESFERA ===\n",
    "        for i in range(stacks):\n",
    "            for j in range(sectors):\n",
    "                v1 = i * (sectors + 1) + j + 1\n",
    "                v2 = v1 + sectors + 1\n",
    "                v3 = v1 + 1\n",
    "                v4 = v2 + 1\n",
    "\n",
    "                f.write(f\"f {v1} {v2} {v3}\\n\")\n",
    "                f.write(f\"f {v3} {v2} {v4}\\n\")\n",
    "\n",
    "        # === FACES CILINDRO ===\n",
    "        for j in range(sectors):\n",
    "            i1 = base_index + j + 1\n",
    "            i2 = i1 + sectors + 1\n",
    "            i3 = i1 + 1\n",
    "            i4 = i2 + 1\n",
    "\n",
    "            f.write(f\"f {i1} {i2} {i3}\\n\")\n",
    "            f.write(f\"f {i3} {i2} {i4}\\n\")\n",
    "\n",
    "    print(f\"Arquivo '{nome_arquivo}' gerado com meia esfera + cilindro encaixado!\")"
   ]
  },
  {
   "cell_type": "code",
   "execution_count": 3,
   "id": "0539fb19-26ef-4c05-9ad6-c13180c1d218",
   "metadata": {},
   "outputs": [
    {
     "name": "stdout",
     "output_type": "stream",
     "text": [
      "Arquivo 'corpo_fantasma.obj' gerado com meia esfera + cilindro encaixado!\n"
     ]
    }
   ],
   "source": [
    "salvar_esfera_com_cilindro(\"corpo_fantasma.obj\")"
   ]
  },
  {
   "cell_type": "markdown",
   "id": "50f1996f-a830-4a97-b8c6-d119d9365786",
   "metadata": {},
   "source": [
    "## Árvore (árvore.obj)"
   ]
  },
  {
   "cell_type": "code",
   "execution_count": 4,
   "id": "d500acd4",
   "metadata": {},
   "outputs": [],
   "source": [
    "def salvar_arvore(nome_arquivo, altura_tronco=0.8, raio_tronco=0.2,\n",
    "                               altura_copa=2.0, raio_copa=0.6, setores=20):\n",
    "    with open(nome_arquivo, 'w') as f:\n",
    "        f.write(\"# Árvore com cone como copa\\n\")\n",
    "\n",
    "        vertices = []\n",
    "\n",
    "        # === TRONCO (CILINDRO) ===\n",
    "        for i in range(2):  # base (0) e topo (1)\n",
    "            y = i * altura_tronco\n",
    "            for j in range(setores + 1):\n",
    "                ang = 2 * math.pi * j / setores\n",
    "                x = raio_tronco * math.cos(ang)\n",
    "                z = raio_tronco * math.sin(ang)\n",
    "                vertices.append((x, y, z))\n",
    "                f.write(f\"v {x:.6f} {y:.6f} {z:.6f}\\n\")\n",
    "\n",
    "        # === COPA (CONE) ===\n",
    "        for j in range(setores + 1):\n",
    "            ang = 2 * math.pi * j / setores\n",
    "            x = raio_copa * math.cos(ang)\n",
    "            z = raio_copa * math.sin(ang)\n",
    "            y = altura_tronco\n",
    "            vertices.append((x, y, z))\n",
    "            f.write(f\"v {x:.6f} {y:.6f} {z:.6f}\\n\")\n",
    "\n",
    "        # topo do cone (pico)\n",
    "        topo_y = altura_tronco + altura_copa\n",
    "        vertices.append((0, topo_y, 0))\n",
    "        f.write(f\"v 0.000000 {topo_y:.6f} 0.000000\\n\")\n",
    "\n",
    "        # === FACES TRONCO ===\n",
    "        for j in range(setores):\n",
    "            v1 = j + 1\n",
    "            v2 = v1 + setores + 1\n",
    "            v3 = v1 + 1\n",
    "            v4 = v2 + 1\n",
    "            f.write(f\"f {v1} {v2} {v3}\\n\")\n",
    "            f.write(f\"f {v3} {v2} {v4}\\n\")\n",
    "\n",
    "        # === FACES COPA ===\n",
    "        offset = len(vertices) - (setores + 1 + 1)  # início da base da copa\n",
    "        topo_idx = len(vertices)                   # índice do pico do cone (1-based)\n",
    "        for j in range(setores):\n",
    "            base1 = offset + j + 1\n",
    "            base2 = offset + (j + 1) % setores + 1\n",
    "            f.write(f\"f {base1} {base2} {topo_idx}\\n\")\n",
    "\n",
    "    print(f\"Arquivo '{nome_arquivo}' gerado com sucesso!\")"
   ]
  },
  {
   "cell_type": "code",
   "execution_count": 5,
   "id": "f5df0dfd-c96f-4538-9b21-f4df4137b64b",
   "metadata": {},
   "outputs": [
    {
     "name": "stdout",
     "output_type": "stream",
     "text": [
      "Arquivo 'arvore.obj' gerado com sucesso!\n"
     ]
    }
   ],
   "source": [
    "salvar_arvore(\"arvore.obj\")"
   ]
  },
  {
   "cell_type": "markdown",
   "id": "7c1d3512-400c-4a44-9ce7-af9a706ebe60",
   "metadata": {},
   "source": [
    "## Lua com crateras (lua.obj)"
   ]
  },
  {
   "cell_type": "code",
   "execution_count": 6,
   "id": "cee315fc-a18c-4ef9-9a38-25f5a4eac463",
   "metadata": {},
   "outputs": [],
   "source": [
    "def salvar_lua(nome_arquivo, setores_lua=40, setores_crateras=20, escala_crateras=0.25):\n",
    "    with open(nome_arquivo, 'w') as f:\n",
    "        f.write(\"# Lua com crateras\\n\")\n",
    "\n",
    "        vertices = [(0,0,0)]  # centro\n",
    "\n",
    "        # === LUA (CÍRCULO) ===\n",
    "        for i in range(setores_lua):\n",
    "            ang = (2 * math.pi) * (i / setores_lua)\n",
    "            x = math.cos(ang)\n",
    "            y = math.sin(ang)\n",
    "            z = 0.0\n",
    "            vertices.append((x, y, z))\n",
    "        for v in vertices:\n",
    "            f.write(f\"v {v[0]:.6f} {v[1]:.6f} {v[2]:.6f}\\n\")\n",
    "        \n",
    "        # === FACES LUA ===\n",
    "        faces = np.ones((setores_lua, 3), dtype=np.int16)\n",
    "        faces[:, 1] = np.arange(2, len(vertices)+1)\n",
    "        faces[:, 2] = np.arange(3, len(vertices)+2); faces[-1, 2] = faces[0, 1]\n",
    "        for face in faces:\n",
    "            f.write(f\"f {face[0]} {face[1]} {face[2]}\\n\")\n",
    "\n",
    "        # === Crateras (CÍRCULOS) ===\n",
    "        num_vertices_lua = len(vertices)\n",
    "        \n",
    "        angulos = np.linspace(0, 2 * math.pi, setores_crateras)\n",
    "        vertices_molde = np.ndarray((setores_crateras+1, 3), dtype=np.float32)\n",
    "        vertices_molde[0,0:2] = 0  # origem/centro (0,0)\n",
    "        vertices_molde[1:, 0] = np.vectorize(math.cos)(angulos)\n",
    "        vertices_molde[1:, 1] = np.vectorize(math.sin)(angulos)\n",
    "        vertices_molde[:, 2] = -0.05\n",
    "\n",
    "        f.write(\"# Cratera 1\\n\")\n",
    "        vertices = vertices_molde.copy()\n",
    "\n",
    "        # ruído Perlin\n",
    "        noise = PerlinNoise(octaves=5, seed=111)\n",
    "        noisy_off = np.array([noise([coord[0], coord[1]]) for coord in vertices_molde[1:,0:2]])\n",
    "        vertices[1:,0] *= (escala_crateras + noisy_off*(escala_crateras**2) )\n",
    "        vertices[1:,1] *= (escala_crateras + noisy_off*(escala_crateras**2) )\n",
    "\n",
    "        # posição na lua\n",
    "        x_off = 0.35\n",
    "        y_off = 0.2\n",
    "\n",
    "        vertices[:,0] += x_off\n",
    "        vertices[:,1] += y_off\n",
    "        for v in vertices:\n",
    "            f.write(f\"v {v[0]:.6f} {v[1]:.6f} {v[2]:.6f}\\n\")\n",
    "\n",
    "        # === FACES CRATERA 1 ===\n",
    "        faces = np.ones((setores_crateras, 3), dtype=np.int16) * (num_vertices_lua+1)\n",
    "        faces[:, 1] += np.arange(1, len(vertices))\n",
    "        faces[:, 2] += np.arange(2, len(vertices)+1); faces[-1, 2] = faces[0, 1]\n",
    "        for face in faces:\n",
    "            f.write(f\"f {face[0]} {face[1]} {face[2]}\\n\")\n",
    "\n",
    "        f.write(\"# Cratera 2\\n\")\n",
    "        vertices = vertices_molde.copy()\n",
    "\n",
    "        # ruído Perlin\n",
    "        noise = PerlinNoise(octaves=5, seed=222)\n",
    "        noisy_off = np.array([noise([coord[0], coord[1]]) for coord in vertices_molde[1:,0:2]])\n",
    "        vertices[1:,0] *= (escala_crateras + noisy_off*(escala_crateras**2) )\n",
    "        vertices[1:,1] *= (escala_crateras + noisy_off*(escala_crateras**2) )\n",
    "\n",
    "        # posição na Lua\n",
    "        x_off = 0.15\n",
    "        y_off = 0.4\n",
    "\n",
    "        vertices[:,0] += x_off\n",
    "        vertices[:,1] += y_off\n",
    "        for v in vertices:\n",
    "            f.write(f\"v {v[0]:.6f} {v[1]:.6f} {v[2]:.6f}\\n\")\n",
    "\n",
    "        # === FACES CRATERA 2 ===\n",
    "        faces = faces.copy() + faces.shape[0] + 1\n",
    "        for face in faces:\n",
    "            f.write(f\"f {face[0]} {face[1]} {face[2]}\\n\")\n",
    "\n",
    "        f.write(\"# Cratera 3\\n\")\n",
    "        vertices = vertices_molde.copy()\n",
    "\n",
    "        # ruído Perlin\n",
    "        noise = PerlinNoise(octaves=5, seed=333)\n",
    "        noisy_off = np.array([noise([coord[0], coord[1]]) for coord in vertices_molde[1:,0:2]])\n",
    "        vertices[1:,0] *= (escala_crateras + noisy_off*(escala_crateras**2) )\n",
    "        vertices[1:,1] *= (escala_crateras + noisy_off*(escala_crateras**2) )\n",
    "\n",
    "        # posição na Lua\n",
    "        x_off = -0.45\n",
    "        y_off = -0.35\n",
    "\n",
    "        vertices[:,0] += x_off\n",
    "        vertices[:,1] += y_off\n",
    "        for v in vertices:\n",
    "            f.write(f\"v {v[0]:.6f} {v[1]:.6f} {v[2]:.6f}\\n\")\n",
    "\n",
    "        # === FACES CRATERA 3 ===\n",
    "        faces = faces.copy() + faces.shape[0] + 1\n",
    "        for face in faces:\n",
    "            f.write(f\"f {face[0]} {face[1]} {face[2]}\\n\")\n",
    "\n",
    "        f.write(\"# Cratera 4\\n\")\n",
    "        vertices = vertices_molde.copy()\n",
    "\n",
    "        # ruído Perlin\n",
    "        noise = PerlinNoise(octaves=5, seed=444)\n",
    "        noisy_off = np.array([noise([coord[0], coord[1]]) for coord in vertices_molde[1:,0:2]])\n",
    "        vertices[1:,0] *= (escala_crateras + noisy_off*(escala_crateras**2) )\n",
    "        vertices[1:,1] *= (escala_crateras + noisy_off*(escala_crateras**2) )\n",
    "\n",
    "        # posição na Lua\n",
    "        x_off = 0.3\n",
    "        y_off = -0.5\n",
    "\n",
    "        vertices[:,0] += x_off\n",
    "        vertices[:,1] += y_off\n",
    "        for v in vertices:\n",
    "            f.write(f\"v {v[0]:.6f} {v[1]:.6f} {v[2]:.6f}\\n\")\n",
    "\n",
    "        # === FACES CRATERA 4 ===\n",
    "        faces = faces.copy() + faces.shape[0] + 1\n",
    "        for face in faces:\n",
    "            f.write(f\"f {face[0]} {face[1]} {face[2]}\\n\")\n",
    "\n",
    "    print(f\"Arquivo '{nome_arquivo}' gerado com sucesso!\")"
   ]
  },
  {
   "cell_type": "code",
   "execution_count": 7,
   "id": "d04bd453-7ef5-4ad5-8c8c-ce376e2d14a7",
   "metadata": {},
   "outputs": [
    {
     "name": "stdout",
     "output_type": "stream",
     "text": [
      "Arquivo 'lua.obj' gerado com sucesso!\n"
     ]
    }
   ],
   "source": [
    "salvar_lua(\"lua.obj\")"
   ]
  }
 ],
 "metadata": {
  "kernelspec": {
   "display_name": "Python 3 (ipykernel)",
   "language": "python",
   "name": "python3"
  },
  "language_info": {
   "codemirror_mode": {
    "name": "ipython",
    "version": 3
   },
   "file_extension": ".py",
   "mimetype": "text/x-python",
   "name": "python",
   "nbconvert_exporter": "python",
   "pygments_lexer": "ipython3",
   "version": "3.9.21"
  }
 },
 "nbformat": 4,
 "nbformat_minor": 5
}
