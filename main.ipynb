{
 "cells": [
  {
   "cell_type": "markdown",
   "metadata": {},
   "source": [
    "# Projeto 1 - Objetos\n",
    "\n",
    "Disciplina SCC0250 - Computação Gráfica\n",
    "\n",
    "<hr>\n",
    "\n",
    "João Pedro Ribeiro da Silva - 12563727"
   ]
  },
  {
   "cell_type": "markdown",
   "metadata": {},
   "source": [
    "Código baseado naquele desenvolvido e disponibilizado pelo professor na Aula 09 - Prática sobre Model e View "
   ]
  },
  {
   "cell_type": "markdown",
   "metadata": {},
   "source": [
    "## Bibliotecas"
   ]
  },
  {
   "cell_type": "code",
   "execution_count": 1,
   "metadata": {},
   "outputs": [],
   "source": [
    "import glfw\n",
    "from OpenGL.GL import *\n",
    "import numpy as np\n",
    "import glm\n",
    "import math\n",
    "from numpy import random\n",
    "\n",
    "from shader_s import Shader"
   ]
  },
  {
   "cell_type": "code",
   "execution_count": 2,
   "metadata": {},
   "outputs": [],
   "source": [
    "# from PIL import Image"
   ]
  },
  {
   "cell_type": "markdown",
   "metadata": {},
   "source": [
    "## Inicializando janela"
   ]
  },
  {
   "cell_type": "code",
   "execution_count": 3,
   "metadata": {},
   "outputs": [],
   "source": [
    "glfw.init()\n",
    "glfw.window_hint(glfw.VISIBLE, glfw.FALSE)\n",
    "\n",
    "altura = 700\n",
    "largura = 700\n",
    "\n",
    "window = glfw.create_window(largura, altura, \"Programa\", None, None)\n",
    "\n",
    "if (window == None):\n",
    "    print(\"Failed to create GLFW window\")\n",
    "    glfwTerminate()\n",
    "    \n",
    "glfw.make_context_current(window)"
   ]
  },
  {
   "cell_type": "markdown",
   "metadata": {},
   "source": [
    "## Constroi e compila os shaders. Também \"linka\" eles ao programa\n",
    "\n",
    "#### Novidade aqui: modularização dessa parte do código --- temos agora uma classe e arquivos próprios para os shaders (vs e fs)\n",
    "Créditos: https://learnopengl.com"
   ]
  },
  {
   "cell_type": "code",
   "execution_count": 4,
   "metadata": {},
   "outputs": [],
   "source": [
    "ourShader = Shader(\"vertex_shader.vs\", \"fragment_shader.fs\")\n",
    "ourShader.use()\n",
    "\n",
    "program = ourShader.getProgram()"
   ]
  },
  {
   "cell_type": "markdown",
   "metadata": {},
   "source": [
    "## Preparando dados para enviar a GPU\n",
    "\n",
    "Até aqui, compilamos nossos Shaders para que a GPU possa processá-los.\n",
    "\n",
    "Por outro lado, as informações de vértices geralmente estão na CPU e devem ser transmitidas para a GPU.\n"
   ]
  },
  {
   "cell_type": "markdown",
   "metadata": {},
   "source": [
    "### Carregando Modelos (vértices e texturas) a partir de Arquivos\n",
    "\n",
    "A função abaixo carrega modelos a partir de arquivos no formato WaveFront (.obj).\n",
    "\n",
    "Para saber mais sobre o modelo, acesse: https://en.wikipedia.org/wiki/Wavefront_.obj_file"
   ]
  },
  {
   "cell_type": "code",
   "execution_count": 5,
   "metadata": {},
   "outputs": [],
   "source": [
    "global vertices_list\n",
    "vertices_list = []    \n",
    "global textures_coord_list\n",
    "textures_coord_list = []\n",
    "\n",
    "\n",
    "def load_model_from_file(filename):\n",
    "    \"\"\"Loads a Wavefront OBJ file. \"\"\"\n",
    "    objects = {}\n",
    "    vertices = []\n",
    "    texture_coords = []\n",
    "    faces = []\n",
    "\n",
    "    material = None\n",
    "\n",
    "    # abre o arquivo obj para leitura\n",
    "    for line in open(filename, \"r\"): ## para cada linha do arquivo .obj\n",
    "        if line.startswith('#'): continue ## ignora comentarios\n",
    "        values = line.split() # quebra a linha por espaço\n",
    "        if not values: continue\n",
    "\n",
    "        ### recuperando vertices\n",
    "        if values[0] == 'v':\n",
    "            vertices.append(values[1:4])\n",
    "\n",
    "        ### recuperando coordenadas de textura\n",
    "        elif values[0] == 'vt':\n",
    "            texture_coords.append(values[1:3])\n",
    "\n",
    "        ### recuperando faces \n",
    "        elif values[0] in ('usemtl', 'usemat'):\n",
    "            material = values[1]\n",
    "        elif values[0] == 'f':\n",
    "            face = []\n",
    "            face_texture = []\n",
    "            for v in values[1:]:\n",
    "                w = v.split('/')\n",
    "                face.append(int(w[0]))\n",
    "                if len(w) >= 2 and len(w[1]) > 0:\n",
    "                    face_texture.append(int(w[1]))\n",
    "                else:\n",
    "                    face_texture.append(0)\n",
    "\n",
    "            faces.append((face, face_texture, material))\n",
    "\n",
    "    model = {}\n",
    "    model['vertices'] = vertices\n",
    "    model['texture'] = texture_coords\n",
    "    model['faces'] = faces\n",
    "\n",
    "    return model\n",
    "\n",
    "\n",
    "def load_texture_from_file(texture_id, img_textura):\n",
    "    glBindTexture(GL_TEXTURE_2D, texture_id)\n",
    "    glTexParameteri(GL_TEXTURE_2D, GL_TEXTURE_WRAP_S, GL_REPEAT)\n",
    "    glTexParameteri(GL_TEXTURE_2D, GL_TEXTURE_WRAP_T, GL_REPEAT)\n",
    "    glTexParameteri(GL_TEXTURE_2D, GL_TEXTURE_MIN_FILTER, GL_LINEAR)\n",
    "    glTexParameteri(GL_TEXTURE_2D, GL_TEXTURE_MAG_FILTER, GL_LINEAR)\n",
    "    img = Image.open(img_textura)\n",
    "    img_width = img.size[0]\n",
    "    img_height = img.size[1]\n",
    "    image_data = img.tobytes(\"raw\", \"RGB\", 0, -1)\n",
    "    #image_data = np.array(list(img.getdata()), np.uint8)\n",
    "    glTexImage2D(GL_TEXTURE_2D, 0, GL_RGB, img_width, img_height, 0, GL_RGB, GL_UNSIGNED_BYTE, image_data)\n",
    "\n",
    "\n",
    "\n",
    "'''\n",
    "É possível encontrar, na Internet, modelos .obj cujas faces não sejam triângulos. Nesses casos, precisamos gerar triângulos a partir dos vértices da face.\n",
    "A função abaixo retorna a sequência de vértices que permite isso. Créditos: Hélio Nogueira Cardoso e Danielle Modesti (SCC0650 - 2024/2).\n",
    "'''\n",
    "def circular_sliding_window_of_three(arr):\n",
    "    if len(arr) == 3:\n",
    "        return arr\n",
    "    circular_arr = arr + [arr[0]]\n",
    "    result = []\n",
    "    for i in range(len(circular_arr) - 2):\n",
    "        result.extend(circular_arr[i:i+3])\n",
    "    return result\n",
    "\n",
    "\n",
    "def load_obj_and_texture(objFile, texturesList=[]):\n",
    "    modelo = load_model_from_file(objFile)\n",
    "    \n",
    "    ### inserindo vertices do modelo no vetor de vertices\n",
    "    verticeInicial = len(vertices_list)\n",
    "    print('Processando modelo {}. Vertice inicial: {}'.format(objFile, len(vertices_list)))\n",
    "    faces_visited = []\n",
    "    for face in modelo['faces']:\n",
    "        if face[2] not in faces_visited:\n",
    "            faces_visited.append(face[2])\n",
    "        for vertice_id in circular_sliding_window_of_three(face[0]):\n",
    "            vertices_list.append(modelo['vertices'][vertice_id - 1])\n",
    "        for texture_id in circular_sliding_window_of_three(face[1]):\n",
    "            textures_coord_list.append(modelo['texture'][texture_id - 1])\n",
    "        \n",
    "    verticeFinal = len(vertices_list)\n",
    "    print('Processando modelo {}. Vertice final: {}'.format(objFile, len(vertices_list)))\n",
    "    \n",
    "    ### carregando textura equivalente e definindo um id (buffer): use um id por textura!\n",
    "    for id in range(len(texturesList)):\n",
    "        load_texture_from_file(id,texturesList[id])\n",
    "    \n",
    "    return verticeInicial, verticeFinal - verticeInicial"
   ]
  },
  {
   "cell_type": "markdown",
   "metadata": {},
   "source": [
    "### Vamos carregar cada modelo e definir funções para desenhá-los"
   ]
  },
  {
   "cell_type": "code",
   "execution_count": 6,
   "metadata": {
    "scrolled": true
   },
   "outputs": [
    {
     "name": "stdout",
     "output_type": "stream",
     "text": [
      "Processando modelo objetos/fantasma.obj. Vertice inicial: 0\n",
      "Processando modelo objetos/fantasma.obj. Vertice final: 1320\n",
      "Processando modelo objetos/arvore.obj. Vertice inicial: 1320\n",
      "Processando modelo objetos/arvore.obj. Vertice final: 1500\n"
     ]
    }
   ],
   "source": [
    "# carrega objetos\n",
    "vertice_inicial_fantasma, num_vertices_fantasma = load_obj_and_texture('objetos/fantasma.obj') # não há texturas para esse objeto (carrega apenas .obj)\n",
    "vertice_inicial_arvore, num_vertices_arvore = load_obj_and_texture('objetos/arvore.obj') # não há texturas para esse objeto (carrega apenas .obj)\n",
    "\n",
    "def model_objeto(vertice_inicial, num_vertices, t_x=0, t_y=0, t_z=0, s_x=1, s_y=1, s_z=1, r_x=0, r_y=0, r_z=0):\n",
    "    # aplica a matriz model\n",
    "    \n",
    "    mat_model = model(t_x, t_y, t_z,  # translação\n",
    "                      s_x, s_y, s_z,  # escala\n",
    "                      r_x, r_y, r_z)  # rotação\n",
    "    loc_model = glGetUniformLocation(program, \"model\")\n",
    "    glUniformMatrix4fv(loc_model, 1, GL_TRUE, mat_model)\n",
    "\n",
    "def desenha_objeto(vertice_inicial, num_vertices, cor=[1,1,1,1]):\n",
    "    # cor\n",
    "    loc_color = glGetUniformLocation(program, \"color\")\n",
    "    glUniform4f(loc_color, cor[0], cor[1], cor[2], cor[3])\n",
    "       \n",
    "    # desenha o objeto\n",
    "    glDrawArrays(GL_TRIANGLES, vertice_inicial, num_vertices) ## renderizando"
   ]
  },
  {
   "cell_type": "markdown",
   "metadata": {},
   "source": [
    "### Para enviar nossos dados da CPU para a GPU, precisamos requisitar dois slots (buffers): um para os vértices e outro para as texturas."
   ]
  },
  {
   "cell_type": "code",
   "execution_count": 7,
   "metadata": {},
   "outputs": [],
   "source": [
    "buffer_VBO = glGenBuffers(1)"
   ]
  },
  {
   "cell_type": "markdown",
   "metadata": {},
   "source": [
    "### Enviando coordenadas de vértices para a GPU\n",
    "\n",
    "Veja os parâmetros da função glBufferData [https://www.khronos.org/registry/OpenGL-Refpages/gl4/html/glBufferData.xhtml]"
   ]
  },
  {
   "cell_type": "code",
   "execution_count": 8,
   "metadata": {},
   "outputs": [],
   "source": [
    "vertices = np.zeros(len(vertices_list), [(\"position\", np.float32, 3)])\n",
    "vertices['position'] = vertices_list\n",
    "\n",
    "\n",
    "# Upload data\n",
    "glBindBuffer(GL_ARRAY_BUFFER, buffer_VBO)\n",
    "glBufferData(GL_ARRAY_BUFFER, vertices.nbytes, vertices, GL_STATIC_DRAW)\n",
    "stride = vertices.strides[0]\n",
    "offset = ctypes.c_void_p(0)\n",
    "loc_vertices = glGetAttribLocation(program, \"position\")\n",
    "glEnableVertexAttribArray(loc_vertices)\n",
    "glVertexAttribPointer(loc_vertices, 3, GL_FLOAT, False, stride, offset)"
   ]
  },
  {
   "cell_type": "markdown",
   "metadata": {},
   "source": [
    "## Câmera fixa\n",
    "\n",
    "Matrizes View e Projection são constantes"
   ]
  },
  {
   "cell_type": "code",
   "execution_count": 9,
   "metadata": {},
   "outputs": [],
   "source": [
    "# view\n",
    "cameraPos   = glm.vec3(0.0, 0.0, -10.0)\n",
    "cameraFront = glm.vec3(0.0, 0.0, 1.0)\n",
    "cameraUp    = glm.vec3(0.0, 1.0, 0.0)\n",
    "\n",
    "MAT_VIEW = np.array(\n",
    "    glm.lookAt(cameraPos, cameraPos + cameraFront, cameraUp)\n",
    ")\n",
    "loc_view = glGetUniformLocation(program, \"view\")\n",
    "glUniformMatrix4fv(loc_view, 1, GL_TRUE, MAT_VIEW)\n",
    "\n",
    "# projection\n",
    "fov   =  45.0\n",
    "\n",
    "MAT_PROJECTION = np.array(\n",
    "    glm.perspective(glm.radians(fov), largura/altura, 0.1, 100.0)\n",
    ")\n",
    "loc_projection = glGetUniformLocation(program, \"projection\")\n",
    "glUniformMatrix4fv(loc_projection, 1, GL_TRUE, MAT_PROJECTION)   "
   ]
  },
  {
   "cell_type": "markdown",
   "metadata": {},
   "source": [
    "## Matriz Model"
   ]
  },
  {
   "cell_type": "code",
   "execution_count": 10,
   "metadata": {},
   "outputs": [],
   "source": [
    "def model(t_x=0, t_y=0, t_z=0, s_x=1, s_y=1, s_z=1, r_x=0, r_y=0, r_z=0):\n",
    "    \n",
    "    matrix_transform = glm.mat4(1.0) # instanciando uma matriz identidade\n",
    "       \n",
    "    # aplicando translacao (terceira operação a ser executada)\n",
    "    matrix_transform = glm.translate(matrix_transform, glm.vec3(t_x, t_y, t_z))\n",
    "    \n",
    "    # aplicando rotacao (segunda operação a ser executada)\n",
    "    # eixo x\n",
    "    matrix_transform = glm.rotate(matrix_transform, math.radians(r_x), glm.vec3(1, 0, 0))\n",
    "    \n",
    "    # eixo y\n",
    "    matrix_transform = glm.rotate(matrix_transform, math.radians(r_y), glm.vec3(0, 1, 0))\n",
    "    \n",
    "    # eixo z\n",
    "    matrix_transform = glm.rotate(matrix_transform, math.radians(r_z), glm.vec3(0, 0, 1))\n",
    "    \n",
    "    # aplicando escala (primeira operação a ser executada)\n",
    "    matrix_transform = glm.scale(matrix_transform, glm.vec3(s_x, s_y, s_z))\n",
    "    \n",
    "    matrix_transform = np.array(matrix_transform)\n",
    "    \n",
    "    return matrix_transform"
   ]
  },
  {
   "cell_type": "markdown",
   "metadata": {},
   "source": [
    "### Eventos de Teclado"
   ]
  },
  {
   "cell_type": "code",
   "execution_count": 11,
   "metadata": {},
   "outputs": [],
   "source": [
    "rotacao_fantasma = 169\n",
    "escala_arvore = 2.5\n",
    "\n",
    "def key_event(window,key,scancode,action,mods):\n",
    "    global rotacao_fantasma, escala_arvore\n",
    "    \n",
    "    if key == glfw.KEY_RIGHT: \n",
    "        rotacao_fantasma -= 1.0\n",
    "            \n",
    "    elif key == glfw.KEY_LEFT: \n",
    "        rotacao_fantasma += 1.0\n",
    "    print(rotacao_fantasma)\n",
    "        \n",
    "    if key == glfw.KEY_UP:\n",
    "        escala_arvore += 0.1\n",
    "        if escala_arvore > 3.0:  # limite opcional\n",
    "            escala_arvore = 3.0\n",
    "\n",
    "    elif key == glfw.KEY_DOWN:\n",
    "        escala_arvore -= 0.1\n",
    "        if escala_arvore < 0.1:  # limite mínimo\n",
    "            escala_arvore = 0.1\n",
    "\n",
    "glfw.set_key_callback(window,key_event)\n"
   ]
  },
  {
   "cell_type": "markdown",
   "metadata": {},
   "source": [
    "## Nesse momento, nós exibimos a janela!\n"
   ]
  },
  {
   "cell_type": "code",
   "execution_count": 12,
   "metadata": {},
   "outputs": [],
   "source": [
    "glfw.show_window(window)"
   ]
  },
  {
   "cell_type": "markdown",
   "metadata": {},
   "source": [
    "## Loop principal da janela."
   ]
  },
  {
   "cell_type": "code",
   "execution_count": 13,
   "metadata": {},
   "outputs": [
    {
     "name": "stdout",
     "output_type": "stream",
     "text": [
      "170.0\n",
      "171.0\n",
      "172.0\n",
      "173.0\n",
      "174.0\n",
      "175.0\n",
      "176.0\n",
      "177.0\n",
      "178.0\n",
      "179.0\n",
      "180.0\n",
      "181.0\n",
      "182.0\n",
      "183.0\n",
      "184.0\n",
      "185.0\n",
      "186.0\n",
      "187.0\n",
      "188.0\n",
      "189.0\n",
      "190.0\n",
      "191.0\n",
      "192.0\n",
      "193.0\n",
      "194.0\n",
      "195.0\n",
      "196.0\n",
      "197.0\n",
      "198.0\n",
      "199.0\n",
      "200.0\n",
      "201.0\n",
      "202.0\n",
      "203.0\n",
      "204.0\n",
      "205.0\n",
      "206.0\n",
      "207.0\n",
      "208.0\n",
      "209.0\n",
      "210.0\n",
      "211.0\n",
      "212.0\n",
      "213.0\n",
      "214.0\n",
      "215.0\n",
      "216.0\n",
      "217.0\n",
      "218.0\n",
      "219.0\n",
      "220.0\n",
      "221.0\n",
      "222.0\n",
      "223.0\n",
      "224.0\n",
      "225.0\n",
      "226.0\n",
      "227.0\n",
      "228.0\n",
      "229.0\n",
      "230.0\n",
      "231.0\n",
      "232.0\n",
      "233.0\n",
      "234.0\n",
      "235.0\n",
      "236.0\n",
      "237.0\n",
      "238.0\n",
      "239.0\n",
      "240.0\n",
      "241.0\n",
      "242.0\n",
      "243.0\n",
      "244.0\n",
      "245.0\n"
     ]
    }
   ],
   "source": [
    "glEnable(GL_DEPTH_TEST) ### importante para 3D\n",
    "\n",
    "\n",
    "def multiplica_matriz(a,b):\n",
    "    m_a = a.reshape(4,4)\n",
    "    m_b = b.reshape(4,4)\n",
    "    m_c = np.dot(m_a,m_b)\n",
    "    c = m_c.reshape(1,16)\n",
    "    return c\n",
    "   \n",
    "while not glfw.window_should_close(window):\n",
    "    glfw.poll_events() \n",
    "    glClear(GL_COLOR_BUFFER_BIT | GL_DEPTH_BUFFER_BIT)\n",
    "    glClearColor(1.0, 1.0, 1.0, 1.0)\n",
    "\n",
    "    # glPolygonMode(GL_FRONT_AND_BACK,GL_LINE)\n",
    "    \n",
    "    model_objeto(vertice_inicial_fantasma, num_vertices_fantasma, t_x=-2, t_z=2, r_y=rotacao_fantasma)\n",
    "    desenha_objeto(vertice_inicial_fantasma, num_vertices_fantasma, cor=[0,0,0,1])\n",
    "\n",
    "    # desenhando arvore\n",
    "    model_objeto(vertice_inicial_arvore, num_vertices_arvore, t_x=2, t_y=-1.5, t_z=2, s_x=escala_arvore, s_y=escala_arvore, s_z=escala_arvore)\n",
    "    ## tronco\n",
    "    desenha_objeto(vertice_inicial_arvore, 121, cor=[0.8, 0.53, 0.12, 0.4])\n",
    "    ## copa\n",
    "    desenha_objeto(vertice_inicial_arvore+120, num_vertices_arvore-120, cor=[0, 1, 0, 0.4])\n",
    "    \n",
    "    \n",
    "    glfw.swap_buffers(window)\n",
    "\n",
    "glfw.terminate()"
   ]
  },
  {
   "cell_type": "code",
   "execution_count": null,
   "metadata": {},
   "outputs": [],
   "source": []
  }
 ],
 "metadata": {
  "finalized": {
   "timestamp": 1583114796072,
   "trusted": true
  },
  "kernelspec": {
   "display_name": "Python 3 (ipykernel)",
   "language": "python",
   "name": "python3"
  },
  "language_info": {
   "codemirror_mode": {
    "name": "ipython",
    "version": 3
   },
   "file_extension": ".py",
   "mimetype": "text/x-python",
   "name": "python",
   "nbconvert_exporter": "python",
   "pygments_lexer": "ipython3",
   "version": "3.9.21"
  }
 },
 "nbformat": 4,
 "nbformat_minor": 4
}
