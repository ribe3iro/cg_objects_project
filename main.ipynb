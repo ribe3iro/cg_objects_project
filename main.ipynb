{
 "cells": [
  {
   "cell_type": "markdown",
   "metadata": {},
   "source": [
    "# Projeto 1 - Objetos\n",
    "\n",
    "Disciplina SCC0250 - Computação Gráfica\n",
    "\n",
    "<hr>\n",
    "\n",
    "João Pedro Ribeiro da Silva - 12563727\n",
    "\n",
    "Miller Matheus Lima Anacleto Rocha - 13727954"
   ]
  },
  {
   "cell_type": "markdown",
   "metadata": {},
   "source": [
    "Código baseado naquele desenvolvido e disponibilizado pelo professor na Aula 09 - Prática sobre Model e View "
   ]
  },
  {
   "cell_type": "markdown",
   "metadata": {},
   "source": [
    "## Bibliotecas"
   ]
  },
  {
   "cell_type": "code",
   "execution_count": 1,
   "metadata": {},
   "outputs": [],
   "source": [
    "import glfw\n",
    "from OpenGL.GL import *\n",
    "import numpy as np\n",
    "import glm\n",
    "import math\n",
    "from numpy import random\n",
    "\n",
    "from shader_s import Shader"
   ]
  },
  {
   "cell_type": "markdown",
   "metadata": {},
   "source": [
    "## Inicializando janela"
   ]
  },
  {
   "cell_type": "code",
   "execution_count": 2,
   "metadata": {},
   "outputs": [],
   "source": [
    "glfw.init()\n",
    "glfw.window_hint(glfw.VISIBLE, glfw.FALSE)\n",
    "\n",
    "altura = 700\n",
    "largura = 700\n",
    "\n",
    "window = glfw.create_window(largura, altura, \"Cabana assombrada\", None, None)\n",
    "\n",
    "if (window == None):\n",
    "    print(\"Failed to create GLFW window\")\n",
    "    glfwTerminate()\n",
    "    \n",
    "glfw.make_context_current(window)"
   ]
  },
  {
   "cell_type": "markdown",
   "metadata": {},
   "source": [
    "## Constroi e compila os shaders. Também \"linka\" eles ao programa\n",
    "\n",
    "#### Novidade aqui: modularização dessa parte do código --- temos agora uma classe e arquivos próprios para os shaders (vs e fs)\n",
    "Créditos: https://learnopengl.com"
   ]
  },
  {
   "cell_type": "code",
   "execution_count": 3,
   "metadata": {},
   "outputs": [],
   "source": [
    "ourShader = Shader(\"vertex_shader.vs\", \"fragment_shader.fs\")\n",
    "ourShader.use()\n",
    "\n",
    "program = ourShader.getProgram()"
   ]
  },
  {
   "cell_type": "markdown",
   "metadata": {},
   "source": [
    "## Preparando dados para enviar a GPU\n",
    "\n",
    "Até aqui, compilamos nossos Shaders para que a GPU possa processá-los.\n",
    "\n",
    "Por outro lado, as informações de vértices geralmente estão na CPU e devem ser transmitidas para a GPU.\n"
   ]
  },
  {
   "cell_type": "markdown",
   "metadata": {},
   "source": [
    "### Carregando Modelos (vértices e texturas) a partir de Arquivos\n",
    "\n",
    "A função abaixo carrega modelos a partir de arquivos no formato WaveFront (.obj).\n",
    "\n",
    "Para saber mais sobre o modelo, acesse: https://en.wikipedia.org/wiki/Wavefront_.obj_file"
   ]
  },
  {
   "cell_type": "code",
   "execution_count": 4,
   "metadata": {},
   "outputs": [],
   "source": [
    "VERTICES_LIST = []"
   ]
  },
  {
   "cell_type": "code",
   "execution_count": 5,
   "metadata": {},
   "outputs": [],
   "source": [
    "def load_model_from_file(filename):\n",
    "    \"\"\"Loads a Wavefront OBJ file. \"\"\"\n",
    "    objects = {}\n",
    "    vertices = []\n",
    "    faces = []\n",
    "\n",
    "    # abre o arquivo obj para leitura\n",
    "    for line in open(filename, \"r\"): ## para cada linha do arquivo .obj\n",
    "        if line.startswith('#'): continue ## ignora comentarios\n",
    "        values = line.split() # quebra a linha por espaço\n",
    "        if not values: continue\n",
    "\n",
    "        ### recuperando vertices\n",
    "        if values[0] == 'v':\n",
    "            vertices.append(values[1:4])\n",
    "\n",
    "        ### recuperando faces \n",
    "        elif values[0] == 'f':\n",
    "            face = [int(v) for v in values[1:]]\n",
    "            faces.append(face)\n",
    "\n",
    "    model = {}\n",
    "    model['vertices'] = vertices\n",
    "    model['faces'] = faces\n",
    "\n",
    "    return model\n",
    "\n",
    "def load_obj(objFile):\n",
    "    global VERTICES_LIST\n",
    "    modelo = load_model_from_file(objFile)\n",
    "    \n",
    "    ### inserindo vertices do modelo no vetor de vertices\n",
    "    verticeInicial = len(VERTICES_LIST)\n",
    "    print('Processando modelo {}. Vertice inicial: {}'.format(objFile, verticeInicial))\n",
    "    for face in modelo['faces']:\n",
    "        VERTICES_LIST.extend([modelo['vertices'][f-1] for f in face])\n",
    "        \n",
    "    verticeFinal = len(VERTICES_LIST)\n",
    "    print('Processando modelo {}. Vertice final: {}'.format(objFile, verticeFinal))\n",
    "    \n",
    "    return verticeInicial, verticeFinal - verticeInicial"
   ]
  },
  {
   "cell_type": "markdown",
   "metadata": {},
   "source": [
    "### Vamos carregar cada modelo e definir funções para desenhá-los"
   ]
  },
  {
   "cell_type": "code",
   "execution_count": 6,
   "metadata": {
    "scrolled": true
   },
   "outputs": [
    {
     "name": "stdout",
     "output_type": "stream",
     "text": [
      "Processando modelo objetos/fantasma.obj. Vertice inicial: 0\n",
      "Processando modelo objetos/fantasma.obj. Vertice final: 1338\n",
      "Processando modelo objetos/arvore.obj. Vertice inicial: 1338\n",
      "Processando modelo objetos/arvore.obj. Vertice final: 1518\n",
      "Processando modelo objetos/arvore.obj. Vertice inicial: 1518\n",
      "Processando modelo objetos/arvore.obj. Vertice final: 1698\n",
      "Processando modelo objetos/arvore.obj. Vertice inicial: 1698\n",
      "Processando modelo objetos/arvore.obj. Vertice final: 1878\n",
      "Processando modelo objetos/arvore.obj. Vertice inicial: 1878\n",
      "Processando modelo objetos/arvore.obj. Vertice final: 2058\n",
      "Processando modelo objetos/arvore.obj. Vertice inicial: 2058\n",
      "Processando modelo objetos/arvore.obj. Vertice final: 2238\n",
      "Processando modelo objetos/arvore.obj. Vertice inicial: 2238\n",
      "Processando modelo objetos/arvore.obj. Vertice final: 2418\n",
      "Processando modelo objetos/arvore.obj. Vertice inicial: 2418\n",
      "Processando modelo objetos/arvore.obj. Vertice final: 2598\n",
      "Processando modelo objetos/grama.obj. Vertice inicial: 2598\n",
      "Processando modelo objetos/grama.obj. Vertice final: 2604\n",
      "Processando modelo objetos/lua.obj. Vertice inicial: 2604\n",
      "Processando modelo objetos/lua.obj. Vertice final: 2964\n",
      "Processando modelo objetos/cabana.obj. Vertice inicial: 2964\n",
      "Processando modelo objetos/cabana.obj. Vertice final: 2979\n",
      "Processando modelo objetos/caderno.obj. Vertice inicial: 2979\n",
      "Processando modelo objetos/caderno.obj. Vertice final: 3069\n"
     ]
    }
   ],
   "source": [
    "# carrega objetos\n",
    "vertice_inicial_fantasma, num_vertices_fantasma = load_obj('objetos/fantasma.obj')\n",
    "arvores = []\n",
    "NUM_ARVORES = 7\n",
    "for i in range(NUM_ARVORES):\n",
    "    vertice_inicial_arvore, num_vertices_arvore = load_obj('objetos/arvore.obj')\n",
    "    arvores.append({\n",
    "        'vertice_inicial': vertice_inicial_arvore, \n",
    "        'num_vertices': num_vertices_arvore\n",
    "    })\n",
    "vertice_inicial_grama, num_vertices_grama = load_obj('objetos/grama.obj')\n",
    "vertice_inicial_lua, num_vertices_lua = load_obj('objetos/lua.obj')\n",
    "vertice_inicial_cabana, num_vertices_cabana = load_obj('objetos/cabana.obj')\n",
    "vertice_inicial_caderno, num_vertices_caderno = load_obj('objetos/caderno.obj')\n",
    "\n",
    "def model_objeto(vertice_inicial, num_vertices, t_x=0, t_y=0, t_z=0, s_x=1, s_y=1, s_z=1, r_x=0, r_y=0, r_z=0):\n",
    "    # aplica a matriz model\n",
    "    \n",
    "    mat_model = model(t_x, t_y, t_z,  # translação\n",
    "                      s_x, s_y, s_z,  # escala\n",
    "                      r_x, r_y, r_z)  # rotação\n",
    "    loc_model = glGetUniformLocation(program, \"model\")\n",
    "    glUniformMatrix4fv(loc_model, 1, GL_TRUE, mat_model)\n",
    "\n",
    "def desenha_objeto(vertice_inicial, num_vertices, cor=[1,1,1,1]):\n",
    "    # cor\n",
    "    loc_color = glGetUniformLocation(program, \"color\")\n",
    "    glUniform4f(loc_color, cor[0], cor[1], cor[2], cor[3])\n",
    "       \n",
    "    # desenha o objeto\n",
    "    glDrawArrays(GL_TRIANGLES, vertice_inicial, num_vertices) ## renderizando"
   ]
  },
  {
   "cell_type": "markdown",
   "metadata": {},
   "source": [
    "### Para enviar nossos dados da CPU para a GPU, precisamos requisitar dois slots (buffers): um para os vértices e outro para as texturas."
   ]
  },
  {
   "cell_type": "code",
   "execution_count": 7,
   "metadata": {},
   "outputs": [],
   "source": [
    "buffer_VBO = glGenBuffers(1)"
   ]
  },
  {
   "cell_type": "markdown",
   "metadata": {},
   "source": [
    "### Enviando coordenadas de vértices para a GPU\n",
    "\n",
    "Veja os parâmetros da função glBufferData [https://www.khronos.org/registry/OpenGL-Refpages/gl4/html/glBufferData.xhtml]"
   ]
  },
  {
   "cell_type": "code",
   "execution_count": 8,
   "metadata": {},
   "outputs": [],
   "source": [
    "vertices = np.zeros(len(VERTICES_LIST), [(\"position\", np.float32, 3)])\n",
    "vertices['position'] = VERTICES_LIST\n",
    "\n",
    "\n",
    "# Upload data\n",
    "glBindBuffer(GL_ARRAY_BUFFER, buffer_VBO)\n",
    "glBufferData(GL_ARRAY_BUFFER, vertices.nbytes, vertices, GL_STATIC_DRAW)\n",
    "stride = vertices.strides[0]\n",
    "offset = ctypes.c_void_p(0)\n",
    "loc_vertices = glGetAttribLocation(program, \"position\")\n",
    "glEnableVertexAttribArray(loc_vertices)\n",
    "glVertexAttribPointer(loc_vertices, 3, GL_FLOAT, False, stride, offset)"
   ]
  },
  {
   "cell_type": "markdown",
   "metadata": {},
   "source": [
    "## Câmera fixa\n",
    "\n",
    "Matrizes View e Projection são constantes"
   ]
  },
  {
   "cell_type": "code",
   "execution_count": 9,
   "metadata": {},
   "outputs": [],
   "source": [
    "# view\n",
    "cameraPos   = glm.vec3(0.0, 0.0, -10.0)\n",
    "cameraFront = glm.vec3(0.0, 0.0, 1.0)\n",
    "cameraUp    = glm.vec3(0.0, 1.0, 0.0)\n",
    "\n",
    "MAT_VIEW = np.array(\n",
    "    glm.lookAt(cameraPos, cameraPos + cameraFront, cameraUp)\n",
    ")\n",
    "loc_view = glGetUniformLocation(program, \"view\")\n",
    "glUniformMatrix4fv(loc_view, 1, GL_TRUE, MAT_VIEW)\n",
    "\n",
    "# projection\n",
    "fov   =  45.0\n",
    "\n",
    "MAT_PROJECTION = np.array(\n",
    "    glm.perspective(glm.radians(fov), largura/altura, 0.1, 100.0)\n",
    ")\n",
    "loc_projection = glGetUniformLocation(program, \"projection\")\n",
    "glUniformMatrix4fv(loc_projection, 1, GL_TRUE, MAT_PROJECTION)   "
   ]
  },
  {
   "cell_type": "markdown",
   "metadata": {},
   "source": [
    "## Matriz Model"
   ]
  },
  {
   "cell_type": "code",
   "execution_count": 10,
   "metadata": {},
   "outputs": [],
   "source": [
    "def model(t_x=0, t_y=0, t_z=0, s_x=1, s_y=1, s_z=1, r_x=0, r_y=0, r_z=0):\n",
    "    \n",
    "    matrix_transform = glm.mat4(1.0) # instanciando uma matriz identidade\n",
    "       \n",
    "    # aplicando translacao (terceira operação a ser executada)\n",
    "    matrix_transform = glm.translate(matrix_transform, glm.vec3(t_x, t_y, t_z))\n",
    "    \n",
    "    # aplicando rotacao (segunda operação a ser executada)\n",
    "    # eixo x\n",
    "    matrix_transform = glm.rotate(matrix_transform, math.radians(r_x), glm.vec3(1, 0, 0))\n",
    "    \n",
    "    # eixo y\n",
    "    matrix_transform = glm.rotate(matrix_transform, math.radians(r_y), glm.vec3(0, 1, 0))\n",
    "    \n",
    "    # eixo z\n",
    "    matrix_transform = glm.rotate(matrix_transform, math.radians(r_z), glm.vec3(0, 0, 1))\n",
    "    \n",
    "    # aplicando escala (primeira operação a ser executada)\n",
    "    matrix_transform = glm.scale(matrix_transform, glm.vec3(s_x, s_y, s_z))\n",
    "    \n",
    "    matrix_transform = np.array(matrix_transform)\n",
    "    \n",
    "    return matrix_transform"
   ]
  },
  {
   "cell_type": "markdown",
   "metadata": {},
   "source": [
    "### Eventos de Teclado"
   ]
  },
  {
   "cell_type": "code",
   "execution_count": 11,
   "metadata": {},
   "outputs": [],
   "source": [
    "rotacao_fantasma = 169 - 180\n",
    "escala_lua = 1\n",
    "caderno_mexendo = False\n",
    "caderno_amostra = False \n",
    "caderno_velocidade = 0\n",
    "caderno_altura = 0\n",
    "SHOW_LINES = False\n",
    "\n",
    "def key_event(window,key,scancode,action,mods):\n",
    "    global rotacao_fantasma, escala_lua, caderno_mexendo, caderno_velocidade, SHOW_LINES\n",
    "    \n",
    "    if key == glfw.KEY_RIGHT: \n",
    "        rotacao_fantasma -= 2.0\n",
    "            \n",
    "    elif key == glfw.KEY_LEFT: \n",
    "        rotacao_fantasma += 2.0\n",
    "        \n",
    "    if key == glfw.KEY_UP:\n",
    "        escala_lua += 0.1\n",
    "        if escala_lua > 3.0:  # limite opcional\n",
    "            escala_lua = 3.0\n",
    "\n",
    "    elif key == glfw.KEY_DOWN:\n",
    "        escala_lua -= 0.1\n",
    "        if escala_lua < 0.5:  # limite mínimo\n",
    "            escala_lua = 0.5\n",
    "    \n",
    "    if key == 32 and action == glfw.PRESS and not caderno_mexendo:\n",
    "        if caderno_amostra:\n",
    "            caderno_velocidade = -0.1\n",
    "            caderno_mexendo = True\n",
    "        else:\n",
    "            caderno_velocidade = 0.1\n",
    "            caderno_mexendo = True\n",
    "    \n",
    "    if key == glfw.KEY_P and action == glfw.PRESS:\n",
    "        SHOW_LINES = not SHOW_LINES\n",
    "        if SHOW_LINES:\n",
    "            glPolygonMode(GL_FRONT_AND_BACK, GL_LINE)\n",
    "        else:\n",
    "            glPolygonMode(GL_FRONT_AND_BACK, GL_FILL)\n",
    "\n",
    "glfw.set_key_callback(window,key_event)"
   ]
  },
  {
   "cell_type": "markdown",
   "metadata": {},
   "source": [
    "## Nesse momento, nós exibimos a janela!\n"
   ]
  },
  {
   "cell_type": "code",
   "execution_count": 12,
   "metadata": {},
   "outputs": [],
   "source": [
    "glfw.show_window(window)"
   ]
  },
  {
   "cell_type": "markdown",
   "metadata": {},
   "source": [
    "## Loop principal da janela."
   ]
  },
  {
   "cell_type": "code",
   "execution_count": 13,
   "metadata": {},
   "outputs": [],
   "source": [
    "glEnable(GL_DEPTH_TEST) ### importante para 3D\n",
    "   \n",
    "while not glfw.window_should_close(window):\n",
    "    glfw.poll_events() \n",
    "    glClear(GL_COLOR_BUFFER_BIT | GL_DEPTH_BUFFER_BIT)\n",
    "    \n",
    "    #CÉU\n",
    "    glClearColor(0, 0, 0.27, 1)\n",
    "\n",
    "    #objetos 2D\n",
    "\n",
    "    #GRAMA\n",
    "    model_objeto(vertice_inicial_grama, num_vertices_grama)\n",
    "    desenha_objeto(vertice_inicial_grama, num_vertices_grama, cor=[0.231,0.329,0.066,1])\n",
    "\n",
    "    #LUA\n",
    "    model_objeto(vertice_inicial_lua, num_vertices_lua, t_x=-3, t_y=4, t_z=6, s_x=escala_lua, s_y=escala_lua)\n",
    "    #círculo\n",
    "    desenha_objeto(vertice_inicial_lua, 3*40, cor=[0.764,0.764,0.764,1])\n",
    "    # cratera 1\n",
    "    desenha_objeto(vertice_inicial_lua + 3*40, 3*20, cor=[0.5, 0.5, 0.5, 1])\n",
    "    # cratera 2\n",
    "    desenha_objeto(vertice_inicial_lua + 3*40 + 3*20, 3*20, cor=[0.5, 0.5, 0.5, 1])\n",
    "    # cratera 3\n",
    "    desenha_objeto(vertice_inicial_lua + 3*40 + 3*20*2, 3*20, cor=[0.5, 0.5, 0.5, 1])\n",
    "    # cratera 4\n",
    "    desenha_objeto(vertice_inicial_lua + 3*40 + 3*20*3, 3*20, cor=[0.5, 0.5, 0.5, 1])\n",
    "\n",
    "    #CABANA\n",
    "    model_objeto(vertice_inicial_cabana, num_vertices_cabana, t_x=0, t_y=1, t_z=4, s_x=1.25, s_y=1.2)\n",
    "    #parede\n",
    "    desenha_objeto(vertice_inicial_cabana, 6, cor=[0.411,0.247,0.145,1])\n",
    "    #porta\n",
    "    desenha_objeto(vertice_inicial_cabana + 6, 6, cor=[0.6,0.317,0.188,1])\n",
    "    #teto\n",
    "    desenha_objeto(vertice_inicial_cabana + 12, num_vertices_cabana-12, cor=[0.219, 0.145, 0.12,1])\n",
    "\n",
    "    #CADERNO\n",
    "    model_objeto(vertice_inicial_caderno, num_vertices_caderno, t_x=0, t_y=-7+caderno_altura, t_z=0, s_x=-3, s_y=3, s_z=3)\n",
    "    desenha_objeto(vertice_inicial_caderno, 2*3, cor=[1,1,1,1])\n",
    "    desenha_objeto(vertice_inicial_caderno + 2*3, 18*3, cor=[0,0,0,1])\n",
    "    desenha_objeto(vertice_inicial_caderno + 20*3, 10*3, cor=[0.65,0.85,0.93,1])\n",
    "    \n",
    "    # #objetos 3D\n",
    "    \n",
    "    # desenhando fantasma\n",
    "    model_objeto(vertice_inicial_fantasma, num_vertices_fantasma, t_x=-2, t_z=2, r_y=rotacao_fantasma)\n",
    "    # corpo\n",
    "    desenha_objeto(vertice_inicial_fantasma, 1320, cor=[0.470,0.427,0.545,1])\n",
    "    # olho\n",
    "    desenha_objeto(vertice_inicial_fantasma + 1320, 6,  cor=[1,1,1,1])\n",
    "    #boca\n",
    "    desenha_objeto(vertice_inicial_fantasma + 1326, 12,  cor=[0.760,0.529,0.647,1])\n",
    "\n",
    "    # desenhando arvores\n",
    "    model_arvores = [\n",
    "        {'t_x':4.3, 't_y':-2.5, 't_z':0, 's_x':1.6, 's_y':4, 's_z':2.5},\n",
    "        {'t_x':2, 't_y':-1.5, 't_z':2, 's_x':2.5, 's_y':2.5, 's_z':2.5},\n",
    "        {'t_x':3.6, 't_y':-2.5, 't_z':1.5, 's_x':2, 's_y':1.5, 's_z':1.8},\n",
    "        {'t_x':0.7, 't_y':-2.5, 't_z':1.5, 's_x':1.5, 's_y':1, 's_z':1.8},\n",
    "        {'t_x':-5, 't_y':-2.5, 't_z':1.5, 's_x':1.7, 's_y':4, 's_z':4},\n",
    "        {'t_x':-3, 't_y':-1.5, 't_z':5, 's_x':1.7, 's_y':2, 's_z':2.5},\n",
    "        {'t_x':-4, 't_y':-2.2, 't_z':1.8, 's_x':1.5, 's_y':1, 's_z':1.4},\n",
    "    ]\n",
    "    for i, arvore in enumerate(arvores):\n",
    "        model_objeto(arvore['vertice_inicial'], arvore['num_vertices'], **model_arvores[i])\n",
    "        ## tronco\n",
    "        desenha_objeto(vertice_inicial_arvore, 121, cor=[0.219, 0.145, 0.12, 0.35])\n",
    "        ## copa\n",
    "        desenha_objeto(vertice_inicial_arvore+120, num_vertices_arvore-120, cor=[0.043, 0.211, 0.09, 0.4])\n",
    "    \n",
    "    #movimento caderno\n",
    "    if caderno_mexendo:\n",
    "        caderno_altura += caderno_velocidade\n",
    "        if caderno_altura > 5:\n",
    "            caderno_altura = 5\n",
    "            caderno_mexendo = False\n",
    "            caderno_amostra = True\n",
    "        if caderno_altura < 0:\n",
    "            caderno_altura = 0\n",
    "            caderno_mexendo = False\n",
    "            caderno_amostra = False\n",
    "    \n",
    "    glfw.swap_buffers(window)\n",
    "\n",
    "glfw.terminate()"
   ]
  }
 ],
 "metadata": {
  "finalized": {
   "timestamp": 1583114796072,
   "trusted": true
  },
  "kernelspec": {
   "display_name": "Python 3 (ipykernel)",
   "language": "python",
   "name": "python3"
  },
  "language_info": {
   "codemirror_mode": {
    "name": "ipython",
    "version": 3
   },
   "file_extension": ".py",
   "mimetype": "text/x-python",
   "name": "python",
   "nbconvert_exporter": "python",
   "pygments_lexer": "ipython3",
   "version": "3.9.21"
  }
 },
 "nbformat": 4,
 "nbformat_minor": 4
}
